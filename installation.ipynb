{
 "cells": [
  {
   "cell_type": "markdown",
   "metadata": {},
   "source": [
    "# Installation\n",
    "\n",
    "Run this notebook to install everything that is required."
   ]
  },
  {
   "cell_type": "code",
   "execution_count": 1,
   "metadata": {},
   "outputs": [
    {
     "name": "stdout",
     "output_type": "stream",
     "text": [
      "downloading https://rawgit.com/jfbercher/latex_envs/master/latex_envs.zip to /var/folders/3k/f5tx7_fs77q4spw_h41nwn5h0000gp/T/tmpuQlCPk/latex_envs.zip\n",
      "extracting /var/folders/3k/f5tx7_fs77q4spw_h41nwn5h0000gp/T/tmpuQlCPk/latex_envs.zip to /Users/ibilion/Library/Jupyter/nbextensions\n"
     ]
    }
   ],
   "source": [
    "!jupyter nbextension install https://rawgit.com/jfbercher/latex_envs/master/latex_envs.zip  --user"
   ]
  },
  {
   "cell_type": "code",
   "execution_count": 6,
   "metadata": {},
   "outputs": [
    {
     "data": {
      "text/plain": [
       "{u'load_extensions': {u'cite2c/main': True,\n",
       "  u'latex_envs/latex_envs': True,\n",
       "  u'livereveal/main': True,\n",
       "  u'publishing/printview/main': True,\n",
       "  u'usability/equation-numbering/main': True,\n",
       "  u'usability/toc/main': True}}"
      ]
     },
     "execution_count": 6,
     "metadata": {},
     "output_type": "execute_result"
    }
   ],
   "source": [
    "from IPython.html.services.config import ConfigManager\n",
    "ip = get_ipython()\n",
    "cm = ConfigManager(parent=ip, profile_dir=ip.profile_dir.location)\n",
    "cm.update('notebook', {\"load_extensions\": {\"latex_envs/latex_envs\": True}})"
   ]
  },
  {
   "cell_type": "code",
   "execution_count": 3,
   "metadata": {},
   "outputs": [
    {
     "name": "stdout",
     "output_type": "stream",
     "text": [
      "Fetching package metadata: ....\n",
      "Solving package specifications: ................................\n",
      "Package plan for installation in environment /Users/ibilion/anaconda:\n",
      "\n",
      "The following packages will be downloaded:\n",
      "\n",
      "    package                    |            build\n",
      "    ---------------------------|-----------------\n",
      "    numpy-1.10.2               |           py27_0         3.0 MB  defaults\n",
      "    setuptools-18.8.1          |           py27_0         346 KB  defaults\n",
      "    conda-3.18.9               |           py27_0         176 KB  defaults\n",
      "    cycler-0.9.0               |           py27_0           6 KB  defaults\n",
      "    pyqt-4.11.4                |           py27_1         4.0 MB  defaults\n",
      "    scipy-0.16.1               |      np110py27_0        11.8 MB  defaults\n",
      "    matplotlib-1.5.0           |      np110py27_0         5.9 MB  defaults\n",
      "    pandas-0.17.1              |      np110py27_0         6.3 MB  defaults\n",
      "    seaborn-0.6.0              |      np110py27_0         248 KB  defaults\n",
      "    ------------------------------------------------------------\n",
      "                                           Total:        31.9 MB\n",
      "\n",
      "The following NEW packages will be INSTALLED:\n",
      "\n",
      "    cycler:     0.9.0-py27_0       defaults\n",
      "\n",
      "The following packages will be UPDATED:\n",
      "\n",
      "    conda:      3.18.8-py27_0     defaults --> 3.18.9-py27_0      defaults\n",
      "    freetype:   2.5.2-2           defaults --> 2.5.5-0            defaults\n",
      "    matplotlib: 1.4.3-np19py27_3  defaults --> 1.5.0-np110py27_0  defaults\n",
      "    numpy:      1.9.3-py27_0      defaults --> 1.10.2-py27_0      defaults\n",
      "    pandas:     0.16.2-np19py27_0 defaults --> 0.17.1-np110py27_0 defaults\n",
      "    pyqt:       4.11.4-py27_0     defaults --> 4.11.4-py27_1      defaults\n",
      "    pytz:       2015.6-py27_0     defaults --> 2015.7-py27_0      defaults\n",
      "    scipy:      0.16.0-np19py27_1 defaults --> 0.16.1-np110py27_0 defaults\n",
      "    seaborn:    0.6.0-np19py27_0  defaults --> 0.6.0-np110py27_0  defaults\n",
      "    setuptools: 18.5-py27_0       defaults --> 18.8.1-py27_0      defaults\n",
      "\n",
      "Fetching packages ...\n",
      "numpy-1.10.2-p 100% |################################| Time: 0:00:01   2.77 MB/s\n",
      "setuptools-18. 100% |################################| Time: 0:00:00   1.03 MB/s\n",
      "conda-3.18.9-p 100% |################################| Time: 0:00:00 737.73 kB/s\n",
      "cycler-0.9.0-p 100% |################################| Time: 0:00:00   2.25 MB/s\n",
      "pyqt-4.11.4-py 100% |################################| Time: 0:00:01   2.85 MB/s\n",
      "scipy-0.16.1-n 100% |################################| Time: 0:00:03   3.29 MB/s\n",
      "matplotlib-1.5 100% |################################| Time: 0:00:01   3.17 MB/s\n",
      "pandas-0.17.1- 100% |################################| Time: 0:00:02   3.02 MB/s\n",
      "seaborn-0.6.0- 100% |################################| Time: 0:00:00 865.50 kB/s\n",
      "Extracting packages ...\n",
      "[      COMPLETE      ]|###################################################| 100%\n",
      "Unlinking packages ...\n",
      "[      COMPLETE      ]|###################################################| 100%\n",
      "Linking packages ...\n",
      "[      COMPLETE      ]|###################################################| 100%\n"
     ]
    }
   ],
   "source": [
    "!conda install -y seaborn"
   ]
  },
  {
   "cell_type": "code",
   "execution_count": 7,
   "metadata": {
    "collapsed": true
   },
   "outputs": [],
   "source": [
    "import notebook"
   ]
  },
  {
   "cell_type": "code",
   "execution_count": 9,
   "metadata": {},
   "outputs": [],
   "source": [
    "import nbconvert"
   ]
  },
  {
   "cell_type": "code",
   "execution_count": null,
   "metadata": {
    "collapsed": true
   },
   "outputs": [],
   "source": []
  }
 ],
 "metadata": {
  "kernelspec": {
   "display_name": "Python 2",
   "language": "python",
   "name": "python2"
  },
  "language_info": {
   "codemirror_mode": {
    "name": "ipython",
    "version": 2
   },
   "file_extension": ".py",
   "mimetype": "text/x-python",
   "name": "python",
   "nbconvert_exporter": "python",
   "pygments_lexer": "ipython2",
   "version": "2.7.14"
  },
  "latex_envs": {
   "bibliofile": "biblio.bib",
   "cite_by": "apalike",
   "current_citInitial": 1,
   "eqLabelWithNumbers": true,
   "eqNumInitial": 0
  }
 },
 "nbformat": 4,
 "nbformat_minor": 1
}
